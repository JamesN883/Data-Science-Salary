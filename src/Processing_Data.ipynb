{
  "cells": [
    {
      "cell_type": "markdown",
      "metadata": {
        "id": "sOCAWwu6RA28"
      },
      "source": [
        "# Import Libraries\n"
      ]
    },
    {
      "cell_type": "code",
      "execution_count": null,
      "metadata": {
        "id": "ugYB4ANcRA2-"
      },
      "outputs": [],
      "source": [
        "import pandas as pd\n",
        "import numpy as np"
      ]
    },
    {
      "cell_type": "markdown",
      "metadata": {
        "id": "15-KD6luRA2_"
      },
      "source": [
        "# Overview of Data"
      ]
    },
    {
      "cell_type": "code",
      "execution_count": null,
      "metadata": {
        "id": "Tm10AWySRA2_"
      },
      "outputs": [],
      "source": [
        "#Read the file\n",
        "raw_data= pd.read_csv(\"Raw_Data_SalaryJob.csv\")"
      ]
    },
    {
      "cell_type": "code",
      "execution_count": null,
      "metadata": {
        "id": "K2nixA-NRA2_",
        "outputId": "98ad63eb-15c3-4a13-ff94-5327e509d070"
      },
      "outputs": [
        {
          "data": {
            "text/html": [
              "<div>\n",
              "<style scoped>\n",
              "    .dataframe tbody tr th:only-of-type {\n",
              "        vertical-align: middle;\n",
              "    }\n",
              "\n",
              "    .dataframe tbody tr th {\n",
              "        vertical-align: top;\n",
              "    }\n",
              "\n",
              "    .dataframe thead th {\n",
              "        text-align: right;\n",
              "    }\n",
              "</style>\n",
              "<table border=\"1\" class=\"dataframe\">\n",
              "  <thead>\n",
              "    <tr style=\"text-align: right;\">\n",
              "      <th></th>\n",
              "      <th>Location</th>\n",
              "      <th>Due Date</th>\n",
              "      <th>Level</th>\n",
              "      <th>Title</th>\n",
              "      <th>Year of Experiment</th>\n",
              "      <th>Salary Max</th>\n",
              "    </tr>\n",
              "  </thead>\n",
              "  <tbody>\n",
              "    <tr>\n",
              "      <th>0</th>\n",
              "      <td>Ha Noi city</td>\n",
              "      <td>2023</td>\n",
              "      <td>Junior</td>\n",
              "      <td>Data Engineer</td>\n",
              "      <td>3</td>\n",
              "      <td>1270</td>\n",
              "    </tr>\n",
              "    <tr>\n",
              "      <th>1</th>\n",
              "      <td>Ha Noi city</td>\n",
              "      <td>2023</td>\n",
              "      <td>Senior</td>\n",
              "      <td>Data Engineer</td>\n",
              "      <td>4</td>\n",
              "      <td>2500</td>\n",
              "    </tr>\n",
              "    <tr>\n",
              "      <th>2</th>\n",
              "      <td>Ha Noi city</td>\n",
              "      <td>2023</td>\n",
              "      <td>Junior</td>\n",
              "      <td>Data Analyst</td>\n",
              "      <td>2</td>\n",
              "      <td>1154</td>\n",
              "    </tr>\n",
              "    <tr>\n",
              "      <th>3</th>\n",
              "      <td>Ha Noi city</td>\n",
              "      <td>2024</td>\n",
              "      <td>Fresher</td>\n",
              "      <td>Data Engineer</td>\n",
              "      <td>1</td>\n",
              "      <td>850</td>\n",
              "    </tr>\n",
              "    <tr>\n",
              "      <th>4</th>\n",
              "      <td>Ha Noi city</td>\n",
              "      <td>2024</td>\n",
              "      <td>Junior</td>\n",
              "      <td>Business Analyst</td>\n",
              "      <td>2.5</td>\n",
              "      <td>1185</td>\n",
              "    </tr>\n",
              "  </tbody>\n",
              "</table>\n",
              "</div>"
            ],
            "text/plain": [
              "       Location  Due Date    Level             Title Year of Experiment  \\\n",
              "0   Ha Noi city      2023   Junior     Data Engineer                  3   \n",
              "1   Ha Noi city      2023   Senior     Data Engineer                  4   \n",
              "2   Ha Noi city      2023   Junior      Data Analyst                  2   \n",
              "3   Ha Noi city      2024  Fresher     Data Engineer                  1   \n",
              "4  Ha Noi city       2024   Junior  Business Analyst                2.5   \n",
              "\n",
              "   Salary Max  \n",
              "0        1270  \n",
              "1        2500  \n",
              "2        1154  \n",
              "3         850  \n",
              "4        1185  "
            ]
          },
          "execution_count": 3,
          "metadata": {},
          "output_type": "execute_result"
        }
      ],
      "source": [
        "# View the data\n",
        "raw_data.head()"
      ]
    },
    {
      "cell_type": "code",
      "execution_count": null,
      "metadata": {
        "id": "WnetQCk5RA3A",
        "outputId": "c9b24f8e-9bb4-47e7-c8ed-ca53be392963"
      },
      "outputs": [
        {
          "name": "stdout",
          "output_type": "stream",
          "text": [
            "Shape of data is  (1000, 6)\n"
          ]
        }
      ],
      "source": [
        "#Shape of data\n",
        "print(\"Shape of data is \", raw_data.shape)"
      ]
    },
    {
      "cell_type": "code",
      "execution_count": null,
      "metadata": {
        "id": "X4M3ebu1RA3A",
        "outputId": "22253351-2423-46bd-c608-72d6d674ed1a"
      },
      "outputs": [
        {
          "name": "stdout",
          "output_type": "stream",
          "text": [
            "<class 'pandas.core.frame.DataFrame'>\n",
            "RangeIndex: 1000 entries, 0 to 999\n",
            "Data columns (total 6 columns):\n",
            " #   Column              Non-Null Count  Dtype  \n",
            "---  ------              --------------  -----  \n",
            " 0   Location            1000 non-null   object \n",
            " 1   Due Date            1000 non-null   int64  \n",
            " 2   Level               1000 non-null   object \n",
            " 3   Title               1000 non-null   object \n",
            " 4   Year of Experiment  1000 non-null   float64\n",
            " 5   Salary Max          1000 non-null   int64  \n",
            "dtypes: float64(1), int64(2), object(3)\n",
            "memory usage: 47.0+ KB\n"
          ]
        }
      ],
      "source": [
        "#Summary about the structure of Data\n",
        "# We need to change the type of variable Year of Experiment to float\n",
        "raw_data['Year of Experiment'] = raw_data['Year of Experiment'].str.replace(',', '.')\n",
        "raw_data['Year of Experiment']= raw_data['Year of Experiment'].astype(float)\n",
        "# All column is enough, therefore, we dont need to remove any null value\n",
        "raw_data.info()"
      ]
    },
    {
      "cell_type": "code",
      "execution_count": null,
      "metadata": {
        "id": "BaGojk_zRA3A"
      },
      "outputs": [],
      "source": [
        "# Check and Clean categorical variables\n",
        "Hanoi = ['Ha Noi city ', 'Ha Noi City', 'HA Noi city']\n",
        "HoChiMinh = ['Ho Chi Minh','Ho Chi Minh ', 'Ho Chi Minh city ','Ho Chi Minh City ']\n",
        "raw_data['Location'] = ['Ha Noi city' if item in Hanoi else item for item in raw_data['Location']]\n",
        "raw_data['Location'] = ['Ho Chi Minh city' if item in HoChiMinh else item for item in raw_data['Location']]"
      ]
    },
    {
      "cell_type": "code",
      "execution_count": null,
      "metadata": {
        "id": "VHF3jS4wRA3A"
      },
      "outputs": [],
      "source": [
        "#  Check and Clean categorical variables\n",
        "Intern =['Intern ',  'Intern']\n",
        "raw_data['Level'] = ['Internship' if item in Intern else item for item in raw_data['Level']]\n"
      ]
    },
    {
      "cell_type": "code",
      "execution_count": null,
      "metadata": {
        "id": "WvPLJhAYRA3B",
        "outputId": "15737ea8-531d-4f6e-80c5-a645a10d0238"
      },
      "outputs": [
        {
          "name": "stdout",
          "output_type": "stream",
          "text": [
            "YOE include  [ 3.   4.   2.   1.   2.5  0.5  0.   1.5  3.5  5.   7.  10.   8.   6.\n",
            "  9.  13.  12.  15. ]\n",
            "18\n"
          ]
        }
      ],
      "source": [
        "YOExperience = raw_data['Year of Experiment'].unique()\n",
        "print(\"YOE include \", YOExperience)\n",
        "print(YOExperience.size)"
      ]
    },
    {
      "cell_type": "code",
      "execution_count": null,
      "metadata": {
        "id": "Yhpy6GAKRA3B"
      },
      "outputs": [],
      "source": [
        "DataScience = ['Data Science Manager', 'Data Science Expert', 'Data Science    ', 'Head of Data Science', 'Data Science Expert ']\n",
        "AIEngineer = ['Ai Engineer', 'AI Engineers', 'AI Engineer ', 'AI Research Engineer', 'Head of AI Center']\n",
        "BussinessAnalysis = ['Business Intelligence Analyst', 'Business Intelligence ', 'Business Intelligence','Logistics Data Analyst','Data Analyst Marketing', 'Actuarial Officer','Financial Analyst','Business Data Analyst', 'Sales Analyst', 'Analyst Accounting and Finance', 'Finance Management ', 'Market Research Analyst']\n",
        "DataAnalyst = ['Data Analyst & Reporting Associate', 'Data analyst', 'Data Analyst ', 'Data Modeling Analyst','Research Analyst','Demand Analyst','Data Analysr', 'Data Analyst Lead','Data Analyst Specialist', 'Data Specialist',  'Data Governance Analyst',  'Data Analyst Supervisor', 'Data and Reporting Analysis']\n",
        "DEngineer = ['Data Engineer Lead', 'Lead Data Engineer','Cloud Data Engineer', 'Data Warehouse Engineer','BI Engineer' ]\n",
        "BigData = ['Big Data Engineer', 'Big Data Leader']\n",
        "DataGovernance = ['Analytics Governance', 'Data Governance Modeling', 'Expert Data Governance Consulting', 'Data Governance']\n",
        "Risk = ['Risk Analyst','Risk MIS','Risk Modeler']\n",
        "Data = ['Data Lead', 'Data Modeling','Data Processing', 'Senior Data', 'Data Head','Data Integration ', 'Data Assistant','Data Intelligence Platform', 'Head of Data and Smart']\n",
        "Software = ['Software Analyst','Software Engineer']\n",
        "Machinelearning = ['Machine Learning','Machine Learning Engineer']\n",
        "\n",
        "raw_data['Title'] = ['Data Science' if item in DataScience else item for item in raw_data['Title']]\n",
        "raw_data['Title'] = ['AI Engineer' if item in AIEngineer else item for item in raw_data['Title']]\n",
        "raw_data['Title'] = ['Business Analyst' if item in BussinessAnalysis else item for item in raw_data['Title']]\n",
        "raw_data['Title'] = ['Data Analyst' if item in DataAnalyst else item for item in raw_data['Title']]\n",
        "raw_data['Title'] = ['Data Engineer' if item in DEngineer else item for item in raw_data['Title']]\n",
        "raw_data['Title'] = ['Big Data' if item in BigData else item for item in raw_data['Title']]\n",
        "raw_data['Title'] = ['Data Governance' if item in DataGovernance else item for item in raw_data['Title']]\n",
        "raw_data['Title'] = ['Risk' if item in Risk else item for item in raw_data['Title']]\n",
        "raw_data['Title'] = ['Data' if item in Data else item for item in raw_data['Title']]\n",
        "raw_data['Title'] = ['Software' if item in Software else item for item in raw_data['Title']]\n",
        "raw_data['Title'] = ['Machine Learning' if item in Machinelearning else item for item in raw_data['Title']]\n"
      ]
    },
    {
      "cell_type": "code",
      "execution_count": null,
      "metadata": {
        "id": "jME6ZY7URA3B",
        "outputId": "01831371-0f41-4bd5-be79-868b8bf0d63e"
      },
      "outputs": [
        {
          "name": "stdout",
          "output_type": "stream",
          "text": [
            "['AI Engineer' 'Big Data' 'Business Analyst' 'Computer Vision Engineer'\n",
            " 'Data' 'Data Analyst' 'Data Architect' 'Data Engineer' 'Data Governance'\n",
            " 'Data Science' 'Data Scientist' 'Machine Learning' 'Risk' 'Software']\n",
            "[ 39  19  59   2  11 339  18 379  12  15  97   2   6   2]\n"
          ]
        }
      ],
      "source": [
        "Title, freq_title = np.unique(raw_data['Title'], return_counts=True)\n",
        "print(Title)\n",
        "print(freq_title)"
      ]
    },
    {
      "cell_type": "code",
      "execution_count": null,
      "metadata": {
        "id": "19NfUcfgRA3B",
        "outputId": "adc119ab-dda2-421a-a1de-b74a5809fa20"
      },
      "outputs": [
        {
          "name": "stdout",
          "output_type": "stream",
          "text": [
            "AI Engineer : 39\n",
            "Big Data : 19\n",
            "Business Analyst : 59\n",
            "Computer Vision Engineer : 2\n",
            "Data : 11\n",
            "Data Analyst : 339\n",
            "Data Architect : 18\n",
            "Data Engineer : 379\n",
            "Data Governance : 12\n",
            "Data Science : 15\n",
            "Data Scientist : 97\n",
            "Machine Learning : 2\n",
            "Risk : 6\n",
            "Software : 2\n"
          ]
        }
      ],
      "source": [
        "for i in range(len(Title)):\n",
        "    print(Title[i] + \" : \"+ str(freq_title[i]))"
      ]
    },
    {
      "cell_type": "code",
      "execution_count": null,
      "metadata": {
        "id": "bMD-iouwRA3B",
        "outputId": "793343a9-1bce-4edf-9dc3-b4a56afe2609"
      },
      "outputs": [
        {
          "name": "stdout",
          "output_type": "stream",
          "text": [
            "Computer Vision Engineer : 2\n",
            "Machine Learning : 2\n",
            "Risk : 6\n",
            "Software : 2\n"
          ]
        }
      ],
      "source": [
        "for i in range(len(Title)):\n",
        "    if freq_title[i] <= 10:\n",
        "         print(Title[i] + \" : \"+ str(freq_title[i]))"
      ]
    },
    {
      "cell_type": "code",
      "execution_count": null,
      "metadata": {
        "id": "uLpFjN-KRA3C"
      },
      "outputs": [],
      "source": [
        "#Create new file including clean Data for Code web\n",
        "raw_data.to_csv('clean_data.csv', index=False)"
      ]
    },
    {
      "cell_type": "markdown",
      "metadata": {
        "id": "rJhHVw47RA3C"
      },
      "source": [
        "# Plot overall of Data"
      ]
    },
    {
      "cell_type": "code",
      "execution_count": null,
      "metadata": {
        "id": "qShNDZ3HRA3C",
        "outputId": "f32275da-3e0b-430a-8126-c019c34d1360"
      },
      "outputs": [
        {
          "name": "stdout",
          "output_type": "stream",
          "text": [
            "Location are  ['Ha Noi city' 'Ho Chi Minh city']\n",
            "Frequency are  [531 469]\n"
          ]
        },
        {
          "data": {
            "text/plain": [
              "Text(0.5, 1.0, 'Horizontal Bar Chart Frequency of all Locations')"
            ]
          },
          "execution_count": 14,
          "metadata": {},
          "output_type": "execute_result"
        },
        {
          "data": {
            "image/png": "[encoded data removed]",
            "text/plain": [
              "<Figure size 640x480 with 1 Axes>"
            ]
          },
          "metadata": {},
          "output_type": "display_data"
        }
      ],
      "source": [
        "import matplotlib.pyplot as plt\n",
        "Location, freq_location = np.unique(raw_data['Location'], return_counts=True)\n",
        "print(\"Location are \", Location)\n",
        "print(\"Frequency are \", freq_location)\n",
        "# Create a horizontal bar chart\n",
        "plt.barh(Location, freq_location, color='skyblue')\n",
        "\n",
        "# Add labels and title\n",
        "plt.xlabel('Frequency')\n",
        "plt.ylabel('Location')\n",
        "plt.title('Horizontal Bar Chart Frequency of all Locations')"
      ]
    },
    {
      "cell_type": "code",
      "execution_count": null,
      "metadata": {
        "id": "DUuydy6GRA3C",
        "outputId": "8ce1d7e8-720e-4fe0-9c00-a3d7c58146ee"
      },
      "outputs": [
        {
          "data": {
            "image/png": "[encoded data removed]",
            "text/plain": [
              "<Figure size 640x480 with 1 Axes>"
            ]
          },
          "metadata": {},
          "output_type": "display_data"
        }
      ],
      "source": [
        "Year, Year_count = np.unique(raw_data['Due Date'], return_counts=True)\n",
        "\n",
        "plt.pie(Year_count, labels=Year, autopct='%1.1f%%', startangle=140)\n",
        "# Equal aspect ratio ensures that pie is drawn as a circle.\n",
        "plt.axis('equal')\n",
        "\n",
        "# Show the plot\n",
        "plt.show()"
      ]
    },
    {
      "cell_type": "code",
      "execution_count": null,
      "metadata": {
        "id": "Ksq99njeRA3C",
        "outputId": "89c82edf-de99-4813-b8aa-719be6092e39"
      },
      "outputs": [
        {
          "name": "stdout",
          "output_type": "stream",
          "text": [
            "['Fresher' 'Internship' 'Junior' 'Manager' 'Senior']\n",
            "[ 44  31 403  22 500]\n"
          ]
        },
        {
          "data": {
            "image/png": "[encoded data removed]",
            "text/plain": [
              "<Figure size 640x480 with 1 Axes>"
            ]
          },
          "metadata": {},
          "output_type": "display_data"
        }
      ],
      "source": [
        "Level, freq_level = np.unique(raw_data['Level'], return_counts=True)\n",
        "\n",
        "print(Level)\n",
        "print(freq_level)\n",
        "plt.pie(freq_level, labels=Level, autopct='%1.1f%%', startangle=140)\n",
        "# Equal aspect ratio ensures that pie is drawn as a circle.\n",
        "plt.axis('equal')\n",
        "# Add a title\n",
        "plt.title('Pie Chart show the proportion of each level in dataset')\n",
        "\n",
        "# Show the plot\n",
        "plt.show()"
      ]
    },
    {
      "cell_type": "code",
      "execution_count": null,
      "metadata": {
        "id": "LOfeLZ1PRA3C",
        "outputId": "619d1303-a866-4f20-d405-a4379c88f4f6"
      },
      "outputs": [
        {
          "data": {
            "text/plain": [
              "Text(0.5, 1.0, 'Horizontal Bar Chart Frequency of all Titles')"
            ]
          },
          "execution_count": 17,
          "metadata": {},
          "output_type": "execute_result"
        },
        {
          "data": {
            "image/png": "[encoded data removed]",
            "text/plain": [
              "<Figure size 640x480 with 1 Axes>"
            ]
          },
          "metadata": {},
          "output_type": "display_data"
        }
      ],
      "source": [
        "\n",
        "bars = plt.barh(Title, freq_title)\n",
        "\n",
        "\n",
        "# Add labels and title\n",
        "plt.xlabel('Frequency')\n",
        "plt.ylabel('Location')\n",
        "plt.title('Horizontal Bar Chart Frequency of all Titles')"
      ]
    },
    {
      "cell_type": "code",
      "execution_count": null,
      "metadata": {
        "id": "vvDQFlhURA3C"
      },
      "outputs": [],
      "source": []
    },
    {
      "cell_type": "code",
      "execution_count": null,
      "metadata": {
        "id": "gUG-puRzRA3C",
        "outputId": "ea21dc4e-50d3-4f5b-e8ff-be5877186045"
      },
      "outputs": [
        {
          "data": {
            "image/png": "[encoded data removed]",
            "text/plain": [
              "<Figure size 1000x700 with 1 Axes>"
            ]
          },
          "metadata": {},
          "output_type": "display_data"
        }
      ],
      "source": [
        "Numofyear = raw_data['Salary Max']\n",
        "fig = plt.figure(figsize =(10, 7))\n",
        "\n",
        "# Creating plot\n",
        "plt.boxplot(Numofyear)\n",
        "\n",
        "# show plot\n",
        "plt.show()"
      ]
    },
    {
      "cell_type": "code",
      "execution_count": null,
      "metadata": {
        "id": "VWldwRbgRA3D",
        "outputId": "a43cb397-94b1-4ab6-e099-7fc0ce7109af"
      },
      "outputs": [
        {
          "data": {
            "text/html": [
              "<div>\n",
              "<style scoped>\n",
              "    .dataframe tbody tr th:only-of-type {\n",
              "        vertical-align: middle;\n",
              "    }\n",
              "\n",
              "    .dataframe tbody tr th {\n",
              "        vertical-align: top;\n",
              "    }\n",
              "\n",
              "    .dataframe thead th {\n",
              "        text-align: right;\n",
              "    }\n",
              "</style>\n",
              "<table border=\"1\" class=\"dataframe\">\n",
              "  <thead>\n",
              "    <tr style=\"text-align: right;\">\n",
              "      <th></th>\n",
              "      <th>Due Date</th>\n",
              "      <th>Year of Experiment</th>\n",
              "      <th>Salary Max</th>\n",
              "    </tr>\n",
              "  </thead>\n",
              "  <tbody>\n",
              "    <tr>\n",
              "      <th>count</th>\n",
              "      <td>1000.000000</td>\n",
              "      <td>1000.00000</td>\n",
              "      <td>1000.000000</td>\n",
              "    </tr>\n",
              "    <tr>\n",
              "      <th>mean</th>\n",
              "      <td>2023.311000</td>\n",
              "      <td>2.94750</td>\n",
              "      <td>2022.815000</td>\n",
              "    </tr>\n",
              "    <tr>\n",
              "      <th>std</th>\n",
              "      <td>0.463134</td>\n",
              "      <td>1.99122</td>\n",
              "      <td>1103.054785</td>\n",
              "    </tr>\n",
              "    <tr>\n",
              "      <th>min</th>\n",
              "      <td>2023.000000</td>\n",
              "      <td>0.00000</td>\n",
              "      <td>85.000000</td>\n",
              "    </tr>\n",
              "    <tr>\n",
              "      <th>25%</th>\n",
              "      <td>2023.000000</td>\n",
              "      <td>2.00000</td>\n",
              "      <td>1270.000000</td>\n",
              "    </tr>\n",
              "    <tr>\n",
              "      <th>50%</th>\n",
              "      <td>2023.000000</td>\n",
              "      <td>3.00000</td>\n",
              "      <td>1900.000000</td>\n",
              "    </tr>\n",
              "    <tr>\n",
              "      <th>75%</th>\n",
              "      <td>2024.000000</td>\n",
              "      <td>4.00000</td>\n",
              "      <td>2500.000000</td>\n",
              "    </tr>\n",
              "    <tr>\n",
              "      <th>max</th>\n",
              "      <td>2024.000000</td>\n",
              "      <td>15.00000</td>\n",
              "      <td>10000.000000</td>\n",
              "    </tr>\n",
              "  </tbody>\n",
              "</table>\n",
              "</div>"
            ],
            "text/plain": [
              "          Due Date  Year of Experiment    Salary Max\n",
              "count  1000.000000          1000.00000   1000.000000\n",
              "mean   2023.311000             2.94750   2022.815000\n",
              "std       0.463134             1.99122   1103.054785\n",
              "min    2023.000000             0.00000     85.000000\n",
              "25%    2023.000000             2.00000   1270.000000\n",
              "50%    2023.000000             3.00000   1900.000000\n",
              "75%    2024.000000             4.00000   2500.000000\n",
              "max    2024.000000            15.00000  10000.000000"
            ]
          },
          "execution_count": 19,
          "metadata": {},
          "output_type": "execute_result"
        }
      ],
      "source": [
        "raw_data.describe()"
      ]
    },
    {
      "cell_type": "code",
      "execution_count": null,
      "metadata": {
        "id": "fMK_RFjBRA3D"
      },
      "outputs": [],
      "source": [
        "IQR_num = 4-2 #2\n",
        "LF = 2-(1.5*IQR_num)\n",
        "UF = 4+(1.5*IQR_num) #7\n",
        "df = raw_data[raw_data[\"Year of Experiment\"]>UF]"
      ]
    },
    {
      "cell_type": "code",
      "execution_count": null,
      "metadata": {
        "id": "mVxdmXJdRA3D",
        "outputId": "ad963025-19a8-4777-afa4-ce1bcf7a417e"
      },
      "outputs": [
        {
          "data": {
            "text/html": [
              "<div>\n",
              "<style scoped>\n",
              "    .dataframe tbody tr th:only-of-type {\n",
              "        vertical-align: middle;\n",
              "    }\n",
              "\n",
              "    .dataframe tbody tr th {\n",
              "        vertical-align: top;\n",
              "    }\n",
              "\n",
              "    .dataframe thead th {\n",
              "        text-align: right;\n",
              "    }\n",
              "</style>\n",
              "<table border=\"1\" class=\"dataframe\">\n",
              "  <thead>\n",
              "    <tr style=\"text-align: right;\">\n",
              "      <th></th>\n",
              "      <th>Location</th>\n",
              "      <th>Due Date</th>\n",
              "      <th>Level</th>\n",
              "      <th>Title</th>\n",
              "      <th>Year of Experiment</th>\n",
              "      <th>Salary Max</th>\n",
              "    </tr>\n",
              "  </thead>\n",
              "  <tbody>\n",
              "    <tr>\n",
              "      <th>68</th>\n",
              "      <td>Ha Noi city</td>\n",
              "      <td>2023</td>\n",
              "      <td>Senior</td>\n",
              "      <td>Data Architect</td>\n",
              "      <td>10.0</td>\n",
              "      <td>4500</td>\n",
              "    </tr>\n",
              "    <tr>\n",
              "      <th>201</th>\n",
              "      <td>Ho Chi Minh city</td>\n",
              "      <td>2023</td>\n",
              "      <td>Senior</td>\n",
              "      <td>Data Engineer</td>\n",
              "      <td>8.0</td>\n",
              "      <td>4000</td>\n",
              "    </tr>\n",
              "    <tr>\n",
              "      <th>266</th>\n",
              "      <td>Ha Noi city</td>\n",
              "      <td>2023</td>\n",
              "      <td>Senior</td>\n",
              "      <td>Data Engineer</td>\n",
              "      <td>8.0</td>\n",
              "      <td>3500</td>\n",
              "    </tr>\n",
              "    <tr>\n",
              "      <th>298</th>\n",
              "      <td>Ha Noi city</td>\n",
              "      <td>2024</td>\n",
              "      <td>Senior</td>\n",
              "      <td>Data Scientist</td>\n",
              "      <td>10.0</td>\n",
              "      <td>3500</td>\n",
              "    </tr>\n",
              "    <tr>\n",
              "      <th>301</th>\n",
              "      <td>Ho Chi Minh city</td>\n",
              "      <td>2023</td>\n",
              "      <td>Senior</td>\n",
              "      <td>Data Analyst</td>\n",
              "      <td>8.0</td>\n",
              "      <td>4000</td>\n",
              "    </tr>\n",
              "    <tr>\n",
              "      <th>302</th>\n",
              "      <td>Ho Chi Minh city</td>\n",
              "      <td>2023</td>\n",
              "      <td>Senior</td>\n",
              "      <td>Data Engineer</td>\n",
              "      <td>8.0</td>\n",
              "      <td>4000</td>\n",
              "    </tr>\n",
              "    <tr>\n",
              "      <th>307</th>\n",
              "      <td>Ha Noi city</td>\n",
              "      <td>2024</td>\n",
              "      <td>Senior</td>\n",
              "      <td>Data Scientist</td>\n",
              "      <td>10.0</td>\n",
              "      <td>3000</td>\n",
              "    </tr>\n",
              "    <tr>\n",
              "      <th>325</th>\n",
              "      <td>Ho Chi Minh city</td>\n",
              "      <td>2023</td>\n",
              "      <td>Senior</td>\n",
              "      <td>Data Scientist</td>\n",
              "      <td>9.0</td>\n",
              "      <td>3000</td>\n",
              "    </tr>\n",
              "    <tr>\n",
              "      <th>400</th>\n",
              "      <td>Ha Noi city</td>\n",
              "      <td>2024</td>\n",
              "      <td>Manager</td>\n",
              "      <td>AI Engineer</td>\n",
              "      <td>10.0</td>\n",
              "      <td>10000</td>\n",
              "    </tr>\n",
              "    <tr>\n",
              "      <th>415</th>\n",
              "      <td>Ha Noi city</td>\n",
              "      <td>2024</td>\n",
              "      <td>Manager</td>\n",
              "      <td>AI Engineer</td>\n",
              "      <td>10.0</td>\n",
              "      <td>5000</td>\n",
              "    </tr>\n",
              "    <tr>\n",
              "      <th>421</th>\n",
              "      <td>Ha Noi city</td>\n",
              "      <td>2023</td>\n",
              "      <td>Senior</td>\n",
              "      <td>Data Scientist</td>\n",
              "      <td>8.0</td>\n",
              "      <td>5085</td>\n",
              "    </tr>\n",
              "    <tr>\n",
              "      <th>422</th>\n",
              "      <td>Ho Chi Minh city</td>\n",
              "      <td>2023</td>\n",
              "      <td>Senior</td>\n",
              "      <td>Data Scientist</td>\n",
              "      <td>8.0</td>\n",
              "      <td>5085</td>\n",
              "    </tr>\n",
              "    <tr>\n",
              "      <th>439</th>\n",
              "      <td>Ha Noi city</td>\n",
              "      <td>2023</td>\n",
              "      <td>Senior</td>\n",
              "      <td>Data Scientist</td>\n",
              "      <td>10.0</td>\n",
              "      <td>4000</td>\n",
              "    </tr>\n",
              "    <tr>\n",
              "      <th>444</th>\n",
              "      <td>Ho Chi Minh city</td>\n",
              "      <td>2023</td>\n",
              "      <td>Senior</td>\n",
              "      <td>Data Engineer</td>\n",
              "      <td>8.0</td>\n",
              "      <td>3000</td>\n",
              "    </tr>\n",
              "    <tr>\n",
              "      <th>449</th>\n",
              "      <td>Ha Noi city</td>\n",
              "      <td>2023</td>\n",
              "      <td>Senior</td>\n",
              "      <td>Data Scientist</td>\n",
              "      <td>8.0</td>\n",
              "      <td>5085</td>\n",
              "    </tr>\n",
              "    <tr>\n",
              "      <th>450</th>\n",
              "      <td>Ho Chi Minh city</td>\n",
              "      <td>2023</td>\n",
              "      <td>Senior</td>\n",
              "      <td>Data Scientist</td>\n",
              "      <td>8.0</td>\n",
              "      <td>5085</td>\n",
              "    </tr>\n",
              "    <tr>\n",
              "      <th>486</th>\n",
              "      <td>Ha Noi city</td>\n",
              "      <td>2023</td>\n",
              "      <td>Senior</td>\n",
              "      <td>Data Engineer</td>\n",
              "      <td>10.0</td>\n",
              "      <td>5000</td>\n",
              "    </tr>\n",
              "    <tr>\n",
              "      <th>487</th>\n",
              "      <td>Ho Chi Minh city</td>\n",
              "      <td>2023</td>\n",
              "      <td>Senior</td>\n",
              "      <td>Data Engineer</td>\n",
              "      <td>10.0</td>\n",
              "      <td>5000</td>\n",
              "    </tr>\n",
              "    <tr>\n",
              "      <th>520</th>\n",
              "      <td>Ha Noi city</td>\n",
              "      <td>2023</td>\n",
              "      <td>Senior</td>\n",
              "      <td>Data Scientist</td>\n",
              "      <td>10.0</td>\n",
              "      <td>5085</td>\n",
              "    </tr>\n",
              "    <tr>\n",
              "      <th>521</th>\n",
              "      <td>Ho Chi Minh city</td>\n",
              "      <td>2023</td>\n",
              "      <td>Senior</td>\n",
              "      <td>Data Scientist</td>\n",
              "      <td>10.0</td>\n",
              "      <td>5085</td>\n",
              "    </tr>\n",
              "    <tr>\n",
              "      <th>527</th>\n",
              "      <td>Ho Chi Minh city</td>\n",
              "      <td>2023</td>\n",
              "      <td>Senior</td>\n",
              "      <td>Data Scientist</td>\n",
              "      <td>10.0</td>\n",
              "      <td>5000</td>\n",
              "    </tr>\n",
              "    <tr>\n",
              "      <th>532</th>\n",
              "      <td>Ho Chi Minh city</td>\n",
              "      <td>2023</td>\n",
              "      <td>Senior</td>\n",
              "      <td>Data Engineer</td>\n",
              "      <td>8.0</td>\n",
              "      <td>5000</td>\n",
              "    </tr>\n",
              "    <tr>\n",
              "      <th>536</th>\n",
              "      <td>Ha Noi city</td>\n",
              "      <td>2023</td>\n",
              "      <td>Senior</td>\n",
              "      <td>Data Scientist</td>\n",
              "      <td>10.0</td>\n",
              "      <td>5000</td>\n",
              "    </tr>\n",
              "    <tr>\n",
              "      <th>543</th>\n",
              "      <td>Ha Noi city</td>\n",
              "      <td>2023</td>\n",
              "      <td>Senior</td>\n",
              "      <td>Data Scientist</td>\n",
              "      <td>8.0</td>\n",
              "      <td>5085</td>\n",
              "    </tr>\n",
              "    <tr>\n",
              "      <th>544</th>\n",
              "      <td>Ho Chi Minh city</td>\n",
              "      <td>2023</td>\n",
              "      <td>Senior</td>\n",
              "      <td>Data Scientist</td>\n",
              "      <td>8.0</td>\n",
              "      <td>5085</td>\n",
              "    </tr>\n",
              "    <tr>\n",
              "      <th>556</th>\n",
              "      <td>Ho Chi Minh city</td>\n",
              "      <td>2023</td>\n",
              "      <td>Senior</td>\n",
              "      <td>Data Scientist</td>\n",
              "      <td>10.0</td>\n",
              "      <td>4660</td>\n",
              "    </tr>\n",
              "    <tr>\n",
              "      <th>557</th>\n",
              "      <td>Ha Noi city</td>\n",
              "      <td>2023</td>\n",
              "      <td>Senior</td>\n",
              "      <td>Data Scientist</td>\n",
              "      <td>10.0</td>\n",
              "      <td>4660</td>\n",
              "    </tr>\n",
              "    <tr>\n",
              "      <th>558</th>\n",
              "      <td>Ha Noi city</td>\n",
              "      <td>2023</td>\n",
              "      <td>Senior</td>\n",
              "      <td>Data Engineer</td>\n",
              "      <td>8.0</td>\n",
              "      <td>4660</td>\n",
              "    </tr>\n",
              "    <tr>\n",
              "      <th>595</th>\n",
              "      <td>Ha Noi city</td>\n",
              "      <td>2023</td>\n",
              "      <td>Senior</td>\n",
              "      <td>Data Scientist</td>\n",
              "      <td>10.0</td>\n",
              "      <td>3390</td>\n",
              "    </tr>\n",
              "    <tr>\n",
              "      <th>606</th>\n",
              "      <td>Ho Chi Minh city</td>\n",
              "      <td>2023</td>\n",
              "      <td>Senior</td>\n",
              "      <td>Data Architect</td>\n",
              "      <td>8.0</td>\n",
              "      <td>3500</td>\n",
              "    </tr>\n",
              "    <tr>\n",
              "      <th>610</th>\n",
              "      <td>Ho Chi Minh city</td>\n",
              "      <td>2023</td>\n",
              "      <td>Senior</td>\n",
              "      <td>Data Engineer</td>\n",
              "      <td>8.0</td>\n",
              "      <td>3000</td>\n",
              "    </tr>\n",
              "    <tr>\n",
              "      <th>628</th>\n",
              "      <td>Ha Noi city</td>\n",
              "      <td>2023</td>\n",
              "      <td>Manager</td>\n",
              "      <td>Machine Learning</td>\n",
              "      <td>8.0</td>\n",
              "      <td>6000</td>\n",
              "    </tr>\n",
              "    <tr>\n",
              "      <th>635</th>\n",
              "      <td>Ha Noi city</td>\n",
              "      <td>2023</td>\n",
              "      <td>Senior</td>\n",
              "      <td>Data Scientist</td>\n",
              "      <td>10.0</td>\n",
              "      <td>4500</td>\n",
              "    </tr>\n",
              "    <tr>\n",
              "      <th>686</th>\n",
              "      <td>Ho Chi Minh city</td>\n",
              "      <td>2023</td>\n",
              "      <td>Senior</td>\n",
              "      <td>Data Engineer</td>\n",
              "      <td>8.0</td>\n",
              "      <td>4000</td>\n",
              "    </tr>\n",
              "    <tr>\n",
              "      <th>717</th>\n",
              "      <td>Ho Chi Minh city</td>\n",
              "      <td>2023</td>\n",
              "      <td>Senior</td>\n",
              "      <td>Data Analyst</td>\n",
              "      <td>8.0</td>\n",
              "      <td>5300</td>\n",
              "    </tr>\n",
              "    <tr>\n",
              "      <th>754</th>\n",
              "      <td>Ho Chi Minh city</td>\n",
              "      <td>2023</td>\n",
              "      <td>Senior</td>\n",
              "      <td>Data Engineer</td>\n",
              "      <td>8.0</td>\n",
              "      <td>5100</td>\n",
              "    </tr>\n",
              "    <tr>\n",
              "      <th>780</th>\n",
              "      <td>Ho Chi Minh city</td>\n",
              "      <td>2023</td>\n",
              "      <td>Senior</td>\n",
              "      <td>Data Analyst</td>\n",
              "      <td>8.0</td>\n",
              "      <td>3000</td>\n",
              "    </tr>\n",
              "    <tr>\n",
              "      <th>847</th>\n",
              "      <td>Ho Chi Minh city</td>\n",
              "      <td>2024</td>\n",
              "      <td>Senior</td>\n",
              "      <td>Data Analyst</td>\n",
              "      <td>8.0</td>\n",
              "      <td>5000</td>\n",
              "    </tr>\n",
              "    <tr>\n",
              "      <th>852</th>\n",
              "      <td>Ha Noi city</td>\n",
              "      <td>2023</td>\n",
              "      <td>Manager</td>\n",
              "      <td>Data Science</td>\n",
              "      <td>13.0</td>\n",
              "      <td>6000</td>\n",
              "    </tr>\n",
              "    <tr>\n",
              "      <th>921</th>\n",
              "      <td>Ho Chi Minh city</td>\n",
              "      <td>2023</td>\n",
              "      <td>Manager</td>\n",
              "      <td>Data</td>\n",
              "      <td>10.0</td>\n",
              "      <td>5500</td>\n",
              "    </tr>\n",
              "    <tr>\n",
              "      <th>922</th>\n",
              "      <td>Ho Chi Minh city</td>\n",
              "      <td>2023</td>\n",
              "      <td>Manager</td>\n",
              "      <td>Data Engineer</td>\n",
              "      <td>12.0</td>\n",
              "      <td>6150</td>\n",
              "    </tr>\n",
              "    <tr>\n",
              "      <th>937</th>\n",
              "      <td>Ha Noi city</td>\n",
              "      <td>2023</td>\n",
              "      <td>Manager</td>\n",
              "      <td>Data Engineer</td>\n",
              "      <td>12.0</td>\n",
              "      <td>9000</td>\n",
              "    </tr>\n",
              "    <tr>\n",
              "      <th>953</th>\n",
              "      <td>Ha Noi city</td>\n",
              "      <td>2023</td>\n",
              "      <td>Manager</td>\n",
              "      <td>Data Science</td>\n",
              "      <td>15.0</td>\n",
              "      <td>10000</td>\n",
              "    </tr>\n",
              "    <tr>\n",
              "      <th>979</th>\n",
              "      <td>Ha Noi city</td>\n",
              "      <td>2023</td>\n",
              "      <td>Manager</td>\n",
              "      <td>Data Engineer</td>\n",
              "      <td>12.0</td>\n",
              "      <td>5500</td>\n",
              "    </tr>\n",
              "    <tr>\n",
              "      <th>981</th>\n",
              "      <td>Ha Noi city</td>\n",
              "      <td>2023</td>\n",
              "      <td>Manager</td>\n",
              "      <td>Data Governance</td>\n",
              "      <td>8.0</td>\n",
              "      <td>5000</td>\n",
              "    </tr>\n",
              "  </tbody>\n",
              "</table>\n",
              "</div>"
            ],
            "text/plain": [
              "             Location  Due Date    Level             Title  \\\n",
              "68        Ha Noi city      2023   Senior    Data Architect   \n",
              "201  Ho Chi Minh city      2023   Senior     Data Engineer   \n",
              "266       Ha Noi city      2023   Senior     Data Engineer   \n",
              "298       Ha Noi city      2024   Senior    Data Scientist   \n",
              "301  Ho Chi Minh city      2023   Senior      Data Analyst   \n",
              "302  Ho Chi Minh city      2023   Senior     Data Engineer   \n",
              "307       Ha Noi city      2024   Senior    Data Scientist   \n",
              "325  Ho Chi Minh city      2023   Senior    Data Scientist   \n",
              "400       Ha Noi city      2024  Manager       AI Engineer   \n",
              "415       Ha Noi city      2024  Manager       AI Engineer   \n",
              "421       Ha Noi city      2023   Senior    Data Scientist   \n",
              "422  Ho Chi Minh city      2023   Senior    Data Scientist   \n",
              "439       Ha Noi city      2023   Senior    Data Scientist   \n",
              "444  Ho Chi Minh city      2023   Senior     Data Engineer   \n",
              "449       Ha Noi city      2023   Senior    Data Scientist   \n",
              "450  Ho Chi Minh city      2023   Senior    Data Scientist   \n",
              "486       Ha Noi city      2023   Senior     Data Engineer   \n",
              "487  Ho Chi Minh city      2023   Senior     Data Engineer   \n",
              "520       Ha Noi city      2023   Senior    Data Scientist   \n",
              "521  Ho Chi Minh city      2023   Senior    Data Scientist   \n",
              "527  Ho Chi Minh city      2023   Senior    Data Scientist   \n",
              "532  Ho Chi Minh city      2023   Senior     Data Engineer   \n",
              "536       Ha Noi city      2023   Senior    Data Scientist   \n",
              "543       Ha Noi city      2023   Senior    Data Scientist   \n",
              "544  Ho Chi Minh city      2023   Senior    Data Scientist   \n",
              "556  Ho Chi Minh city      2023   Senior    Data Scientist   \n",
              "557       Ha Noi city      2023   Senior    Data Scientist   \n",
              "558       Ha Noi city      2023   Senior     Data Engineer   \n",
              "595       Ha Noi city      2023   Senior    Data Scientist   \n",
              "606  Ho Chi Minh city      2023   Senior    Data Architect   \n",
              "610  Ho Chi Minh city      2023   Senior     Data Engineer   \n",
              "628       Ha Noi city      2023  Manager  Machine Learning   \n",
              "635       Ha Noi city      2023   Senior    Data Scientist   \n",
              "686  Ho Chi Minh city      2023   Senior     Data Engineer   \n",
              "717  Ho Chi Minh city      2023   Senior      Data Analyst   \n",
              "754  Ho Chi Minh city      2023   Senior     Data Engineer   \n",
              "780  Ho Chi Minh city      2023   Senior      Data Analyst   \n",
              "847  Ho Chi Minh city      2024   Senior      Data Analyst   \n",
              "852       Ha Noi city      2023  Manager      Data Science   \n",
              "921  Ho Chi Minh city      2023  Manager              Data   \n",
              "922  Ho Chi Minh city      2023  Manager     Data Engineer   \n",
              "937       Ha Noi city      2023  Manager     Data Engineer   \n",
              "953       Ha Noi city      2023  Manager      Data Science   \n",
              "979       Ha Noi city      2023  Manager     Data Engineer   \n",
              "981       Ha Noi city      2023  Manager   Data Governance   \n",
              "\n",
              "     Year of Experiment  Salary Max  \n",
              "68                 10.0        4500  \n",
              "201                 8.0        4000  \n",
              "266                 8.0        3500  \n",
              "298                10.0        3500  \n",
              "301                 8.0        4000  \n",
              "302                 8.0        4000  \n",
              "307                10.0        3000  \n",
              "325                 9.0        3000  \n",
              "400                10.0       10000  \n",
              "415                10.0        5000  \n",
              "421                 8.0        5085  \n",
              "422                 8.0        5085  \n",
              "439                10.0        4000  \n",
              "444                 8.0        3000  \n",
              "449                 8.0        5085  \n",
              "450                 8.0        5085  \n",
              "486                10.0        5000  \n",
              "487                10.0        5000  \n",
              "520                10.0        5085  \n",
              "521                10.0        5085  \n",
              "527                10.0        5000  \n",
              "532                 8.0        5000  \n",
              "536                10.0        5000  \n",
              "543                 8.0        5085  \n",
              "544                 8.0        5085  \n",
              "556                10.0        4660  \n",
              "557                10.0        4660  \n",
              "558                 8.0        4660  \n",
              "595                10.0        3390  \n",
              "606                 8.0        3500  \n",
              "610                 8.0        3000  \n",
              "628                 8.0        6000  \n",
              "635                10.0        4500  \n",
              "686                 8.0        4000  \n",
              "717                 8.0        5300  \n",
              "754                 8.0        5100  \n",
              "780                 8.0        3000  \n",
              "847                 8.0        5000  \n",
              "852                13.0        6000  \n",
              "921                10.0        5500  \n",
              "922                12.0        6150  \n",
              "937                12.0        9000  \n",
              "953                15.0       10000  \n",
              "979                12.0        5500  \n",
              "981                 8.0        5000  "
            ]
          },
          "execution_count": 21,
          "metadata": {},
          "output_type": "execute_result"
        }
      ],
      "source": [
        "df.head(45)"
      ]
    },
    {
      "cell_type": "code",
      "execution_count": null,
      "metadata": {
        "id": "ksboB5JkRA3D"
      },
      "outputs": [],
      "source": []
    },
    {
      "cell_type": "code",
      "execution_count": null,
      "metadata": {
        "id": "Km9ZnRzwRA3D"
      },
      "outputs": [],
      "source": [
        "# TRAIN- TEST SPLIT\n",
        "X = raw_data[\"Year of Experiment\"]\n",
        "y = raw_data[\"Salary Max\"]\n",
        "from sklearn.model_selection import train_test_split\n",
        "X_train, X_test, y_train, y_test = train_test_split(X, y, test_size=0.2, random_state=72)"
      ]
    },
    {
      "cell_type": "code",
      "execution_count": null,
      "metadata": {
        "id": "1l0LLzzpRA3D"
      },
      "outputs": [],
      "source": [
        "X_train = X_train.to_frame()\n",
        "y_train = y_train.to_frame()\n",
        "X_test = X_test.to_frame()"
      ]
    },
    {
      "cell_type": "code",
      "execution_count": null,
      "metadata": {
        "id": "Ih64ACiURA3D"
      },
      "outputs": [],
      "source": [
        "\n",
        "y_test = y_test.to_frame()"
      ]
    },
    {
      "cell_type": "code",
      "execution_count": null,
      "metadata": {
        "id": "9iRvutVtRA3D"
      },
      "outputs": [],
      "source": [
        "from sklearn.linear_model import LinearRegression\n",
        "linear = LinearRegression()\n",
        "\n",
        "# Fit the model with the *TRAINING* data\n",
        "linear.fit(X_train, y_train)\n",
        "prediction = linear.predict(X_test)"
      ]
    },
    {
      "cell_type": "code",
      "execution_count": null,
      "metadata": {
        "id": "kfckHinIRA3D",
        "outputId": "ddbc5d53-fd2a-4caa-e033-018e3e69e2f9"
      },
      "outputs": [
        {
          "name": "stdout",
          "output_type": "stream",
          "text": [
            "MAE 503.71\n",
            "R^2 0.71\n"
          ]
        }
      ],
      "source": [
        "from sklearn.metrics import mean_absolute_error, r2_score\n",
        "mae = mean_absolute_error(y_test, prediction)\n",
        "r2 = r2_score(y_test, prediction)\n",
        "\n",
        "\n",
        "print(\"MAE %.2f\" % mae)\n",
        "print(\"R^2 %.2f\" % r2)"
      ]
    },
    {
      "cell_type": "code",
      "execution_count": null,
      "metadata": {
        "id": "FHvKgNjaRA3D",
        "outputId": "eaf92c53-e013-460d-8d38-8fb2a512f9b2"
      },
      "outputs": [
        {
          "name": "stdout",
          "output_type": "stream",
          "text": [
            "Mean Squared Error: 440518.3458118781\n"
          ]
        }
      ],
      "source": [
        "from sklearn.metrics import mean_squared_error\n",
        "mse = mean_squared_error(y_test, prediction)\n",
        "\n",
        "print(\"Mean Squared Error:\", mse)"
      ]
    },
    {
      "cell_type": "code",
      "execution_count": null,
      "metadata": {
        "id": "QPjWaN2YRA3D",
        "outputId": "d3110bdf-65bd-412b-d8ad-a5531bd24c3c"
      },
      "outputs": [
        {
          "data": {
            "text/html": [
              "<style>#sk-container-id-1 {\n",
              "  /* Definition of color scheme common for light and dark mode */\n",
              "  --sklearn-color-text: black;\n",
              "  --sklearn-color-line: gray;\n",
              "  /* Definition of color scheme for unfitted estimators */\n",
              "  --sklearn-color-unfitted-level-0: #fff5e6;\n",
              "  --sklearn-color-unfitted-level-1: #f6e4d2;\n",
              "  --sklearn-color-unfitted-level-2: #ffe0b3;\n",
              "  --sklearn-color-unfitted-level-3: chocolate;\n",
              "  /* Definition of color scheme for fitted estimators */\n",
              "  --sklearn-color-fitted-level-0: #f0f8ff;\n",
              "  --sklearn-color-fitted-level-1: #d4ebff;\n",
              "  --sklearn-color-fitted-level-2: #b3dbfd;\n",
              "  --sklearn-color-fitted-level-3: cornflowerblue;\n",
              "\n",
              "  /* Specific color for light theme */\n",
              "  --sklearn-color-text-on-default-background: var(--sg-text-color, var(--theme-code-foreground, var(--jp-content-font-color1, black)));\n",
              "  --sklearn-color-background: var(--sg-background-color, var(--theme-background, var(--jp-layout-color0, white)));\n",
              "  --sklearn-color-border-box: var(--sg-text-color, var(--theme-code-foreground, var(--jp-content-font-color1, black)));\n",
              "  --sklearn-color-icon: #696969;\n",
              "\n",
              "  @media (prefers-color-scheme: dark) {\n",
              "    /* Redefinition of color scheme for dark theme */\n",
              "    --sklearn-color-text-on-default-background: var(--sg-text-color, var(--theme-code-foreground, var(--jp-content-font-color1, white)));\n",
              "    --sklearn-color-background: var(--sg-background-color, var(--theme-background, var(--jp-layout-color0, #111)));\n",
              "    --sklearn-color-border-box: var(--sg-text-color, var(--theme-code-foreground, var(--jp-content-font-color1, white)));\n",
              "    --sklearn-color-icon: #878787;\n",
              "  }\n",
              "}\n",
              "\n",
              "#sk-container-id-1 {\n",
              "  color: var(--sklearn-color-text);\n",
              "}\n",
              "\n",
              "#sk-container-id-1 pre {\n",
              "  padding: 0;\n",
              "}\n",
              "\n",
              "#sk-container-id-1 input.sk-hidden--visually {\n",
              "  border: 0;\n",
              "  clip: rect(1px 1px 1px 1px);\n",
              "  clip: rect(1px, 1px, 1px, 1px);\n",
              "  height: 1px;\n",
              "  margin: -1px;\n",
              "  overflow: hidden;\n",
              "  padding: 0;\n",
              "  position: absolute;\n",
              "  width: 1px;\n",
              "}\n",
              "\n",
              "#sk-container-id-1 div.sk-dashed-wrapped {\n",
              "  border: 1px dashed var(--sklearn-color-line);\n",
              "  margin: 0 0.4em 0.5em 0.4em;\n",
              "  box-sizing: border-box;\n",
              "  padding-bottom: 0.4em;\n",
              "  background-color: var(--sklearn-color-background);\n",
              "}\n",
              "\n",
              "#sk-container-id-1 div.sk-container {\n",
              "  /* jupyter's `normalize.less` sets `[hidden] { display: none; }`\n",
              "     but bootstrap.min.css set `[hidden] { display: none !important; }`\n",
              "     so we also need the `!important` here to be able to override the\n",
              "     default hidden behavior on the sphinx rendered scikit-learn.org.\n",
              "     See: https://github.com/scikit-learn/scikit-learn/issues/21755 */\n",
              "  display: inline-block !important;\n",
              "  position: relative;\n",
              "}\n",
              "\n",
              "#sk-container-id-1 div.sk-text-repr-fallback {\n",
              "  display: none;\n",
              "}\n",
              "\n",
              "div.sk-parallel-item,\n",
              "div.sk-serial,\n",
              "div.sk-item {\n",
              "  /* draw centered vertical line to link estimators */\n",
              "  background-image: linear-gradient(var(--sklearn-color-text-on-default-background), var(--sklearn-color-text-on-default-background));\n",
              "  background-size: 2px 100%;\n",
              "  background-repeat: no-repeat;\n",
              "  background-position: center center;\n",
              "}\n",
              "\n",
              "/* Parallel-specific style estimator block */\n",
              "\n",
              "#sk-container-id-1 div.sk-parallel-item::after {\n",
              "  content: \"\";\n",
              "  width: 100%;\n",
              "  border-bottom: 2px solid var(--sklearn-color-text-on-default-background);\n",
              "  flex-grow: 1;\n",
              "}\n",
              "\n",
              "#sk-container-id-1 div.sk-parallel {\n",
              "  display: flex;\n",
              "  align-items: stretch;\n",
              "  justify-content: center;\n",
              "  background-color: var(--sklearn-color-background);\n",
              "  position: relative;\n",
              "}\n",
              "\n",
              "#sk-container-id-1 div.sk-parallel-item {\n",
              "  display: flex;\n",
              "  flex-direction: column;\n",
              "}\n",
              "\n",
              "#sk-container-id-1 div.sk-parallel-item:first-child::after {\n",
              "  align-self: flex-end;\n",
              "  width: 50%;\n",
              "}\n",
              "\n",
              "#sk-container-id-1 div.sk-parallel-item:last-child::after {\n",
              "  align-self: flex-start;\n",
              "  width: 50%;\n",
              "}\n",
              "\n",
              "#sk-container-id-1 div.sk-parallel-item:only-child::after {\n",
              "  width: 0;\n",
              "}\n",
              "\n",
              "/* Serial-specific style estimator block */\n",
              "\n",
              "#sk-container-id-1 div.sk-serial {\n",
              "  display: flex;\n",
              "  flex-direction: column;\n",
              "  align-items: center;\n",
              "  background-color: var(--sklearn-color-background);\n",
              "  padding-right: 1em;\n",
              "  padding-left: 1em;\n",
              "}\n",
              "\n",
              "\n",
              "/* Toggleable style: style used for estimator/Pipeline/ColumnTransformer box that is\n",
              "clickable and can be expanded/collapsed.\n",
              "- Pipeline and ColumnTransformer use this feature and define the default style\n",
              "- Estimators will overwrite some part of the style using the `sk-estimator` class\n",
              "*/\n",
              "\n",
              "/* Pipeline and ColumnTransformer style (default) */\n",
              "\n",
              "#sk-container-id-1 div.sk-toggleable {\n",
              "  /* Default theme specific background. It is overwritten whether we have a\n",
              "  specific estimator or a Pipeline/ColumnTransformer */\n",
              "  background-color: var(--sklearn-color-background);\n",
              "}\n",
              "\n",
              "/* Toggleable label */\n",
              "#sk-container-id-1 label.sk-toggleable__label {\n",
              "  cursor: pointer;\n",
              "  display: block;\n",
              "  width: 100%;\n",
              "  margin-bottom: 0;\n",
              "  padding: 0.5em;\n",
              "  box-sizing: border-box;\n",
              "  text-align: center;\n",
              "}\n",
              "\n",
              "#sk-container-id-1 label.sk-toggleable__label-arrow:before {\n",
              "  /* Arrow on the left of the label */\n",
              "  content: \"▸\";\n",
              "  float: left;\n",
              "  margin-right: 0.25em;\n",
              "  color: var(--sklearn-color-icon);\n",
              "}\n",
              "\n",
              "#sk-container-id-1 label.sk-toggleable__label-arrow:hover:before {\n",
              "  color: var(--sklearn-color-text);\n",
              "}\n",
              "\n",
              "/* Toggleable content - dropdown */\n",
              "\n",
              "#sk-container-id-1 div.sk-toggleable__content {\n",
              "  max-height: 0;\n",
              "  max-width: 0;\n",
              "  overflow: hidden;\n",
              "  text-align: left;\n",
              "  /* unfitted */\n",
              "  background-color: var(--sklearn-color-unfitted-level-0);\n",
              "}\n",
              "\n",
              "#sk-container-id-1 div.sk-toggleable__content.fitted {\n",
              "  /* fitted */\n",
              "  background-color: var(--sklearn-color-fitted-level-0);\n",
              "}\n",
              "\n",
              "#sk-container-id-1 div.sk-toggleable__content pre {\n",
              "  margin: 0.2em;\n",
              "  border-radius: 0.25em;\n",
              "  color: var(--sklearn-color-text);\n",
              "  /* unfitted */\n",
              "  background-color: var(--sklearn-color-unfitted-level-0);\n",
              "}\n",
              "\n",
              "#sk-container-id-1 div.sk-toggleable__content.fitted pre {\n",
              "  /* unfitted */\n",
              "  background-color: var(--sklearn-color-fitted-level-0);\n",
              "}\n",
              "\n",
              "#sk-container-id-1 input.sk-toggleable__control:checked~div.sk-toggleable__content {\n",
              "  /* Expand drop-down */\n",
              "  max-height: 200px;\n",
              "  max-width: 100%;\n",
              "  overflow: auto;\n",
              "}\n",
              "\n",
              "#sk-container-id-1 input.sk-toggleable__control:checked~label.sk-toggleable__label-arrow:before {\n",
              "  content: \"▾\";\n",
              "}\n",
              "\n",
              "/* Pipeline/ColumnTransformer-specific style */\n",
              "\n",
              "#sk-container-id-1 div.sk-label input.sk-toggleable__control:checked~label.sk-toggleable__label {\n",
              "  color: var(--sklearn-color-text);\n",
              "  background-color: var(--sklearn-color-unfitted-level-2);\n",
              "}\n",
              "\n",
              "#sk-container-id-1 div.sk-label.fitted input.sk-toggleable__control:checked~label.sk-toggleable__label {\n",
              "  background-color: var(--sklearn-color-fitted-level-2);\n",
              "}\n",
              "\n",
              "/* Estimator-specific style */\n",
              "\n",
              "/* Colorize estimator box */\n",
              "#sk-container-id-1 div.sk-estimator input.sk-toggleable__control:checked~label.sk-toggleable__label {\n",
              "  /* unfitted */\n",
              "  background-color: var(--sklearn-color-unfitted-level-2);\n",
              "}\n",
              "\n",
              "#sk-container-id-1 div.sk-estimator.fitted input.sk-toggleable__control:checked~label.sk-toggleable__label {\n",
              "  /* fitted */\n",
              "  background-color: var(--sklearn-color-fitted-level-2);\n",
              "}\n",
              "\n",
              "#sk-container-id-1 div.sk-label label.sk-toggleable__label,\n",
              "#sk-container-id-1 div.sk-label label {\n",
              "  /* The background is the default theme color */\n",
              "  color: var(--sklearn-color-text-on-default-background);\n",
              "}\n",
              "\n",
              "/* On hover, darken the color of the background */\n",
              "#sk-container-id-1 div.sk-label:hover label.sk-toggleable__label {\n",
              "  color: var(--sklearn-color-text);\n",
              "  background-color: var(--sklearn-color-unfitted-level-2);\n",
              "}\n",
              "\n",
              "/* Label box, darken color on hover, fitted */\n",
              "#sk-container-id-1 div.sk-label.fitted:hover label.sk-toggleable__label.fitted {\n",
              "  color: var(--sklearn-color-text);\n",
              "  background-color: var(--sklearn-color-fitted-level-2);\n",
              "}\n",
              "\n",
              "/* Estimator label */\n",
              "\n",
              "#sk-container-id-1 div.sk-label label {\n",
              "  font-family: monospace;\n",
              "  font-weight: bold;\n",
              "  display: inline-block;\n",
              "  line-height: 1.2em;\n",
              "}\n",
              "\n",
              "#sk-container-id-1 div.sk-label-container {\n",
              "  text-align: center;\n",
              "}\n",
              "\n",
              "/* Estimator-specific */\n",
              "#sk-container-id-1 div.sk-estimator {\n",
              "  font-family: monospace;\n",
              "  border: 1px dotted var(--sklearn-color-border-box);\n",
              "  border-radius: 0.25em;\n",
              "  box-sizing: border-box;\n",
              "  margin-bottom: 0.5em;\n",
              "  /* unfitted */\n",
              "  background-color: var(--sklearn-color-unfitted-level-0);\n",
              "}\n",
              "\n",
              "#sk-container-id-1 div.sk-estimator.fitted {\n",
              "  /* fitted */\n",
              "  background-color: var(--sklearn-color-fitted-level-0);\n",
              "}\n",
              "\n",
              "/* on hover */\n",
              "#sk-container-id-1 div.sk-estimator:hover {\n",
              "  /* unfitted */\n",
              "  background-color: var(--sklearn-color-unfitted-level-2);\n",
              "}\n",
              "\n",
              "#sk-container-id-1 div.sk-estimator.fitted:hover {\n",
              "  /* fitted */\n",
              "  background-color: var(--sklearn-color-fitted-level-2);\n",
              "}\n",
              "\n",
              "/* Specification for estimator info (e.g. \"i\" and \"?\") */\n",
              "\n",
              "/* Common style for \"i\" and \"?\" */\n",
              "\n",
              ".sk-estimator-doc-link,\n",
              "a:link.sk-estimator-doc-link,\n",
              "a:visited.sk-estimator-doc-link {\n",
              "  float: right;\n",
              "  font-size: smaller;\n",
              "  line-height: 1em;\n",
              "  font-family: monospace;\n",
              "  background-color: var(--sklearn-color-background);\n",
              "  border-radius: 1em;\n",
              "  height: 1em;\n",
              "  width: 1em;\n",
              "  text-decoration: none !important;\n",
              "  margin-left: 1ex;\n",
              "  /* unfitted */\n",
              "  border: var(--sklearn-color-unfitted-level-1) 1pt solid;\n",
              "  color: var(--sklearn-color-unfitted-level-1);\n",
              "}\n",
              "\n",
              ".sk-estimator-doc-link.fitted,\n",
              "a:link.sk-estimator-doc-link.fitted,\n",
              "a:visited.sk-estimator-doc-link.fitted {\n",
              "  /* fitted */\n",
              "  border: var(--sklearn-color-fitted-level-1) 1pt solid;\n",
              "  color: var(--sklearn-color-fitted-level-1);\n",
              "}\n",
              "\n",
              "/* On hover */\n",
              "div.sk-estimator:hover .sk-estimator-doc-link:hover,\n",
              ".sk-estimator-doc-link:hover,\n",
              "div.sk-label-container:hover .sk-estimator-doc-link:hover,\n",
              ".sk-estimator-doc-link:hover {\n",
              "  /* unfitted */\n",
              "  background-color: var(--sklearn-color-unfitted-level-3);\n",
              "  color: var(--sklearn-color-background);\n",
              "  text-decoration: none;\n",
              "}\n",
              "\n",
              "div.sk-estimator.fitted:hover .sk-estimator-doc-link.fitted:hover,\n",
              ".sk-estimator-doc-link.fitted:hover,\n",
              "div.sk-label-container:hover .sk-estimator-doc-link.fitted:hover,\n",
              ".sk-estimator-doc-link.fitted:hover {\n",
              "  /* fitted */\n",
              "  background-color: var(--sklearn-color-fitted-level-3);\n",
              "  color: var(--sklearn-color-background);\n",
              "  text-decoration: none;\n",
              "}\n",
              "\n",
              "/* Span, style for the box shown on hovering the info icon */\n",
              ".sk-estimator-doc-link span {\n",
              "  display: none;\n",
              "  z-index: 9999;\n",
              "  position: relative;\n",
              "  font-weight: normal;\n",
              "  right: .2ex;\n",
              "  padding: .5ex;\n",
              "  margin: .5ex;\n",
              "  width: min-content;\n",
              "  min-width: 20ex;\n",
              "  max-width: 50ex;\n",
              "  color: var(--sklearn-color-text);\n",
              "  box-shadow: 2pt 2pt 4pt #999;\n",
              "  /* unfitted */\n",
              "  background: var(--sklearn-color-unfitted-level-0);\n",
              "  border: .5pt solid var(--sklearn-color-unfitted-level-3);\n",
              "}\n",
              "\n",
              ".sk-estimator-doc-link.fitted span {\n",
              "  /* fitted */\n",
              "  background: var(--sklearn-color-fitted-level-0);\n",
              "  border: var(--sklearn-color-fitted-level-3);\n",
              "}\n",
              "\n",
              ".sk-estimator-doc-link:hover span {\n",
              "  display: block;\n",
              "}\n",
              "\n",
              "/* \"?\"-specific style due to the `<a>` HTML tag */\n",
              "\n",
              "#sk-container-id-1 a.estimator_doc_link {\n",
              "  float: right;\n",
              "  font-size: 1rem;\n",
              "  line-height: 1em;\n",
              "  font-family: monospace;\n",
              "  background-color: var(--sklearn-color-background);\n",
              "  border-radius: 1rem;\n",
              "  height: 1rem;\n",
              "  width: 1rem;\n",
              "  text-decoration: none;\n",
              "  /* unfitted */\n",
              "  color: var(--sklearn-color-unfitted-level-1);\n",
              "  border: var(--sklearn-color-unfitted-level-1) 1pt solid;\n",
              "}\n",
              "\n",
              "#sk-container-id-1 a.estimator_doc_link.fitted {\n",
              "  /* fitted */\n",
              "  border: var(--sklearn-color-fitted-level-1) 1pt solid;\n",
              "  color: var(--sklearn-color-fitted-level-1);\n",
              "}\n",
              "\n",
              "/* On hover */\n",
              "#sk-container-id-1 a.estimator_doc_link:hover {\n",
              "  /* unfitted */\n",
              "  background-color: var(--sklearn-color-unfitted-level-3);\n",
              "  color: var(--sklearn-color-background);\n",
              "  text-decoration: none;\n",
              "}\n",
              "\n",
              "#sk-container-id-1 a.estimator_doc_link.fitted:hover {\n",
              "  /* fitted */\n",
              "  background-color: var(--sklearn-color-fitted-level-3);\n",
              "}\n",
              "</style><div id=\"sk-container-id-1\" class=\"sk-top-container\"><div class=\"sk-text-repr-fallback\"><pre>Ridge(alpha=0.1)</pre><b>In a Jupyter environment, please rerun this cell to show the HTML representation or trust the notebook. <br />On GitHub, the HTML representation is unable to render, please try loading this page with nbviewer.org.</b></div><div class=\"sk-container\" hidden><div class=\"sk-item\"><div class=\"sk-estimator fitted sk-toggleable\"><input class=\"sk-toggleable__control sk-hidden--visually\" id=\"sk-estimator-id-1\" type=\"checkbox\" checked><label for=\"sk-estimator-id-1\" class=\"sk-toggleable__label fitted sk-toggleable__label-arrow fitted\">&nbsp;&nbsp;Ridge<a class=\"sk-estimator-doc-link fitted\" rel=\"noreferrer\" target=\"_blank\" href=\"https://scikit-learn.org/1.4/modules/generated/sklearn.linear_model.Ridge.html\">?<span>Documentation for Ridge</span></a><span class=\"sk-estimator-doc-link fitted\">i<span>Fitted</span></span></label><div class=\"sk-toggleable__content fitted\"><pre>Ridge(alpha=0.1)</pre></div> </div></div></div></div>"
            ],
            "text/plain": [
              "Ridge(alpha=0.1)"
            ]
          },
          "execution_count": 28,
          "metadata": {},
          "output_type": "execute_result"
        }
      ],
      "source": [
        "from sklearn.linear_model import Ridge\n",
        "model = Ridge(alpha=0.1)\n",
        "model.fit(X_train, y_train)\n"
      ]
    },
    {
      "cell_type": "code",
      "execution_count": null,
      "metadata": {
        "id": "cbOegZrmRA3D"
      },
      "outputs": [],
      "source": [
        "prediction = model.predict(X_test)"
      ]
    },
    {
      "cell_type": "code",
      "execution_count": null,
      "metadata": {
        "id": "FtQX_6aSRA3E",
        "outputId": "40dd1c58-a52a-4293-e223-dce4aae327b4"
      },
      "outputs": [
        {
          "name": "stdout",
          "output_type": "stream",
          "text": [
            "Mean Squared Error: 440523.40086847654\n"
          ]
        }
      ],
      "source": [
        "mse = mean_squared_error(y_test, prediction)\n",
        "\n",
        "print(\"Mean Squared Error:\", mse)"
      ]
    },
    {
      "cell_type": "code",
      "execution_count": null,
      "metadata": {
        "id": "VLmJ-u_5RA3E",
        "outputId": "1ad01bf9-df1c-4b50-9668-7b710696bbff"
      },
      "outputs": [
        {
          "data": {
            "text/plain": [
              "<matplotlib.collections.PathCollection at 0x1bd33618f50>"
            ]
          },
          "execution_count": 31,
          "metadata": {},
          "output_type": "execute_result"
        },
        {
          "data": {
            "image/png": "[encoded data removed]",
            "text/plain": [
              "<Figure size 640x480 with 1 Axes>"
            ]
          },
          "metadata": {},
          "output_type": "display_data"
        }
      ],
      "source": [
        "import matplotlib.pyplot as plt\n",
        "plt.scatter(X, y)"
      ]
    },
    {
      "cell_type": "code",
      "execution_count": null,
      "metadata": {
        "id": "ZDs2y90lRA3E",
        "outputId": "9cbe6a7f-3c6d-4b78-d948-8aed8cb90913"
      },
      "outputs": [
        {
          "name": "stdout",
          "output_type": "stream",
          "text": [
            "                            OLS Regression Results                            \n",
            "==============================================================================\n",
            "Dep. Variable:             Salary Max   R-squared:                       0.668\n",
            "Model:                            OLS   Adj. R-squared:                  0.668\n",
            "Method:                 Least Squares   F-statistic:                     2012.\n",
            "Date:                Thu, 02 May 2024   Prob (F-statistic):          1.89e-241\n",
            "Time:                        10:26:05   Log-Likelihood:                -7872.4\n",
            "No. Observations:                1000   AIC:                         1.575e+04\n",
            "Df Residuals:                     998   BIC:                         1.576e+04\n",
            "Df Model:                           1                                         \n",
            "Covariance Type:            nonrobust                                         \n",
            "======================================================================================\n",
            "                         coef    std err          t      P>|t|      [0.025      0.975]\n",
            "--------------------------------------------------------------------------------------\n",
            "const                687.9107     35.912     19.155      0.000     617.438     758.383\n",
            "Year of Experiment   452.8937     10.098     44.852      0.000     433.079     472.709\n",
            "==============================================================================\n",
            "Omnibus:                      248.763   Durbin-Watson:                   1.806\n",
            "Prob(Omnibus):                  0.000   Jarque-Bera (JB):             1109.316\n",
            "Skew:                           1.091   Prob(JB):                    1.30e-241\n",
            "Kurtosis:                       7.676   Cond. No.                         6.71\n",
            "==============================================================================\n",
            "\n",
            "Notes:\n",
            "[1] Standard Errors assume that the covariance matrix of the errors is correctly specified.\n"
          ]
        }
      ],
      "source": [
        "import statsmodels.api as sm\n",
        "X = sm.add_constant(raw_data[\"Year of Experiment\"])\n",
        "y = raw_data[\"Salary Max\"]\n",
        "model = sm.OLS(y, X).fit()\n",
        "model = sm.OLS(y, X)\n",
        "reg = model.fit()\n",
        "print(reg.summary())"
      ]
    },
    {
      "cell_type": "code",
      "execution_count": null,
      "metadata": {
        "id": "YITkWIBPRA3E"
      },
      "outputs": [],
      "source": []
    }
  ],
  "metadata": {
    "kernelspec": {
      "display_name": "Python 3",
      "language": "python",
      "name": "python3"
    },
    "language_info": {
      "codemirror_mode": {
        "name": "ipython",
        "version": 3
      },
      "file_extension": ".py",
      "mimetype": "text/x-python",
      "name": "python",
      "nbconvert_exporter": "python",
      "pygments_lexer": "ipython3",
      "version": "3.12.2"
    },
    "colab": {
      "provenance": []
    }
  },
  "nbformat": 4,
  "nbformat_minor": 0
}